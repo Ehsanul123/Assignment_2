{
 "cells": [
  {
   "cell_type": "code",
   "execution_count": 7,
   "id": "876e6768",
   "metadata": {},
   "outputs": [
    {
     "name": "stdout",
     "output_type": "stream",
     "text": [
      "enter 1st value10\n",
      "Enter 2nd Value20\n",
      "True\n"
     ]
    }
   ],
   "source": [
    "#1:\n",
    "Two value of boolean data type are True and False.\n",
    "a=int(input(\"enter 1st value\"))\n",
    "b=int(input(\"Enter 2nd Value\"))\n",
    "if(a<b):\n",
    "    print(True)\n",
    "else:\n",
    "    print(False)\n"
   ]
  },
  {
   "cell_type": "markdown",
   "id": "2b754dc8",
   "metadata": {},
   "source": [
    "#2:\n",
    "Three types of Boolean operator are:\n",
    "    AND\n",
    "    OR\n",
    "    NOT"
   ]
  },
  {
   "cell_type": "code",
   "execution_count": null,
   "id": "836cd219",
   "metadata": {},
   "outputs": [],
   "source": [
    "#3:\n",
    "   A       B     A or B    A and B       NOT (Respect to A)\n",
    "  True     True    True      True       False\n",
    "  True     False   True      False      False\n",
    "  False    True    True      False       True\n",
    "  False    False   False     False       True"
   ]
  },
  {
   "cell_type": "code",
   "execution_count": null,
   "id": "05df1407",
   "metadata": {},
   "outputs": [],
   "source": [
    "#4:\n",
    "(5 > 4) and (3 == 5)------>False\n",
    "not (5 > 4)--------------->False\n",
    "(5 > 4) or (3==5)--------->True\n",
    "not((5 > 4) or (3==5))---->False\n",
    "(True and True) and (True == False)-->False\n",
    "(not False) or (not True)--->True"
   ]
  },
  {
   "cell_type": "code",
   "execution_count": null,
   "id": "1d72f056",
   "metadata": {},
   "outputs": [],
   "source": [
    "#5:\n",
    "Six comparison operators are:\n",
    "    <  <=   >    >=   ==   !="
   ]
  },
  {
   "cell_type": "code",
   "execution_count": null,
   "id": "d3ed0988",
   "metadata": {},
   "outputs": [],
   "source": [
    "#6:\n",
    "Assignment operator(=) is assign the value of right side of value to the respect of left side of variable.\n",
    "a=10(= is assignment operator)\n",
    "Eqaul to operator is (==) is used to comparison between the left side of value to the right side of the value\n",
    "a=10\n",
    "b=20\n",
    "if (a==b)(== is equal operator)"
   ]
  },
  {
   "cell_type": "code",
   "execution_count": null,
   "id": "2e282e28",
   "metadata": {},
   "outputs": [],
   "source": [
    "#7:\n",
    "Three blocks are:\n",
    "    1: if spam==10:\n",
    "    2: if spam>5:\n",
    "    3: else:"
   ]
  },
  {
   "cell_type": "code",
   "execution_count": 9,
   "id": "1a4e49c2",
   "metadata": {},
   "outputs": [
    {
     "name": "stdout",
     "output_type": "stream",
     "text": [
      "Greetings!\n"
     ]
    }
   ],
   "source": [
    "#8:\n",
    "spam=0\n",
    "if spam==10:\n",
    "    print(\"Hello\")\n",
    "if spam>5:\n",
    "    print(\"howdy\")\n",
    "else:\n",
    "    print(\"Greetings!\")"
   ]
  },
  {
   "cell_type": "code",
   "execution_count": null,
   "id": "6503181d",
   "metadata": {},
   "outputs": [],
   "source": [
    "#9:\n",
    "We use Ctr+C to resume the process"
   ]
  },
  {
   "cell_type": "code",
   "execution_count": null,
   "id": "c994ad0e",
   "metadata": {},
   "outputs": [
    {
     "name": "stdout",
     "output_type": "stream",
     "text": [
      "Write your name : ram\n",
      "Write your name : sudh\n",
      "Write your name : steven\n",
      "steven\n",
      "Write your name : sunny\n"
     ]
    }
   ],
   "source": [
    "# 10:\n",
    "Break is used to stop the execution of the loop at aspecific condition\n",
    "continue is used to skip a particular iteration of the loop\n",
    "\n",
    "'''while True:\n",
    "    name=input(\"Write your name : \")\n",
    "    if name==\"Steven\" or name==\"steven\":\n",
    "        print(\"steven\")\n",
    "        break'''\n",
    "while True:\n",
    "    name=input(\"Write your name : \")\n",
    "    if name==\"Steven\" or name==\"steven\":\n",
    "        print(\"steven\")\n",
    "        continue"
   ]
  },
  {
   "cell_type": "code",
   "execution_count": 5,
   "id": "46fb6c77",
   "metadata": {},
   "outputs": [
    {
     "name": "stdout",
     "output_type": "stream",
     "text": [
      "0\n",
      "1\n",
      "2\n",
      "3\n",
      "4\n",
      "5\n",
      "6\n",
      "7\n",
      "8\n",
      "9\n"
     ]
    }
   ],
   "source": [
    "#11:\n",
    "for i in range(10):\n",
    "    print(i)"
   ]
  },
  {
   "cell_type": "code",
   "execution_count": 6,
   "id": "57ae35c3",
   "metadata": {},
   "outputs": [
    {
     "name": "stdout",
     "output_type": "stream",
     "text": [
      "0\n",
      "1\n",
      "2\n",
      "3\n",
      "4\n",
      "5\n",
      "6\n",
      "7\n",
      "8\n",
      "9\n"
     ]
    }
   ],
   "source": [
    "for i in range(0,10):\n",
    "    print(i)"
   ]
  },
  {
   "cell_type": "code",
   "execution_count": 7,
   "id": "3ec25e99",
   "metadata": {},
   "outputs": [
    {
     "name": "stdout",
     "output_type": "stream",
     "text": [
      "0\n",
      "1\n",
      "2\n",
      "3\n",
      "4\n",
      "5\n",
      "6\n",
      "7\n",
      "8\n",
      "9\n"
     ]
    }
   ],
   "source": [
    "for i in range(0,10,1):\n",
    "    print(i)"
   ]
  },
  {
   "cell_type": "code",
   "execution_count": 8,
   "id": "ec511274",
   "metadata": {},
   "outputs": [
    {
     "name": "stdout",
     "output_type": "stream",
     "text": [
      "0\n",
      "2\n",
      "4\n",
      "6\n",
      "8\n"
     ]
    }
   ],
   "source": [
    "for i in range(0,10,2):\n",
    "    print(i)"
   ]
  },
  {
   "cell_type": "code",
   "execution_count": null,
   "id": "d3d664c4",
   "metadata": {},
   "outputs": [],
   "source": [
    "#In a for loop there is no difference between range(10), range(0, 10), and range(0, 10, 1).All are iterate from 0 to 9 ,excluding the upper bound."
   ]
  },
  {
   "cell_type": "code",
   "execution_count": 9,
   "id": "0612c2b4",
   "metadata": {},
   "outputs": [
    {
     "name": "stdout",
     "output_type": "stream",
     "text": [
      "1\n",
      "2\n",
      "3\n",
      "4\n",
      "5\n",
      "6\n",
      "7\n",
      "8\n",
      "9\n",
      "10\n"
     ]
    }
   ],
   "source": [
    "#12:Using For Loop\n",
    "for i in range(1,11):\n",
    "    print(i)"
   ]
  },
  {
   "cell_type": "code",
   "execution_count": 11,
   "id": "85976c1f",
   "metadata": {},
   "outputs": [
    {
     "name": "stdout",
     "output_type": "stream",
     "text": [
      "1\n",
      "2\n",
      "3\n",
      "4\n",
      "5\n",
      "6\n",
      "7\n",
      "8\n",
      "9\n",
      "10\n"
     ]
    }
   ],
   "source": [
    "#12:Using While Loop\n",
    "a=0\n",
    "b=10\n",
    "while(a<b):\n",
    "    a=a+1\n",
    "    print(a)"
   ]
  },
  {
   "cell_type": "code",
   "execution_count": null,
   "id": "1e283f58",
   "metadata": {},
   "outputs": [],
   "source": [
    "#13:\n",
    "we can call using spam.bacon()."
   ]
  }
 ],
 "metadata": {
  "kernelspec": {
   "display_name": "Python 3 (ipykernel)",
   "language": "python",
   "name": "python3"
  },
  "language_info": {
   "codemirror_mode": {
    "name": "ipython",
    "version": 3
   },
   "file_extension": ".py",
   "mimetype": "text/x-python",
   "name": "python",
   "nbconvert_exporter": "python",
   "pygments_lexer": "ipython3",
   "version": "3.9.7"
  }
 },
 "nbformat": 4,
 "nbformat_minor": 5
}
